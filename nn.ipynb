{
 "cells": [
  {
   "cell_type": "code",
   "execution_count": 7,
   "metadata": {},
   "outputs": [],
   "source": [
    "import sys\n",
    "import numpy as np\n",
    "import matplotlib"
   ]
  },
  {
   "attachments": {},
   "cell_type": "markdown",
   "metadata": {},
   "source": [
    "Neural network: Input, hidden, and output layers\n",
    "\n",
    "Input layers: Data or output from other nodes\n",
    "\n",
    "- Every input has a weight\n",
    "- Every node has a bias\n",
    "\n",
    "Output = Input 1 * Weight 1 + ... + Input n * Weight n + bias\n",
    "\n",
    "- We use backpropagation to change bias and weight as necessary"
   ]
  },
  {
   "cell_type": "code",
   "execution_count": 3,
   "metadata": {},
   "outputs": [
    {
     "name": "stdout",
     "output_type": "stream",
     "text": [
      "4.8\n"
     ]
    }
   ],
   "source": [
    "inputs = [1,2,3,2.5]\n",
    "\n",
    "weights = [0.2, 0.8, -0.5, 1]\n",
    "\n",
    "# Every neuron has its weight\n",
    "\n",
    "bias = 2\n",
    "\n",
    "# Formula for output\n",
    "\n",
    "output = inputs[0] * weights[0] + inputs[1] * weights[1] + inputs[2] * weights[2] + inputs[3] * weights[3] + bias\n",
    "\n",
    "print(output)"
   ]
  },
  {
   "attachments": {},
   "cell_type": "markdown",
   "metadata": {},
   "source": [
    "Output layers in particular take outputs from all nodes in the previous layer, and give them varying weights and biases. The also look more complex"
   ]
  },
  {
   "cell_type": "code",
   "execution_count": 4,
   "metadata": {},
   "outputs": [
    {
     "name": "stdout",
     "output_type": "stream",
     "text": [
      "[4.8, 1.21, 2.385]\n"
     ]
    }
   ],
   "source": [
    "# Output layer\n",
    "\n",
    "weights1 = [0.2, 0.8, -0.5, 1]\n",
    "weights2 = [0.5, -0.91, 0.26, -0.5]\n",
    "weights3 = [-0.26, -0.27, 0.17, 0.87]\n",
    "\n",
    "bias1 = 2\n",
    "bias2 = 3\n",
    "bias3 = 0.5\n",
    "\n",
    "all_outputs = [inputs[0] * weights1[0] + inputs[1] * weights1[1] + inputs[2] * weights1[2] + inputs[3] * weights1[3] + bias1,\n",
    "          inputs[0] * weights2[0] + inputs[1] * weights2[1] + inputs[2] * weights2[2] + inputs[3] * weights2[3] + bias2,\n",
    "          inputs[0] * weights3[0] + inputs[1] * weights3[1] + inputs[2] * weights3[2] + inputs[3] * weights3[3] + bias3]\n",
    "\n",
    "print(all_outputs)"
   ]
  },
  {
   "attachments": {},
   "cell_type": "markdown",
   "metadata": {},
   "source": [
    "This is just a way of doing the above process using loops"
   ]
  },
  {
   "cell_type": "code",
   "execution_count": 6,
   "metadata": {},
   "outputs": [
    {
     "name": "stdout",
     "output_type": "stream",
     "text": [
      "[4.8, 1.21, 2.385]\n"
     ]
    }
   ],
   "source": [
    "layer_outputs = []\n",
    "\n",
    "biases = [2,3,0.5]\n",
    "weights = [[0.2, 0.8, -0.5, 1],\n",
    "           [0.5, -0.91, 0.26, -0.5],\n",
    "           [-0.26, -0.27, 0.17, 0.87]]\n",
    "\n",
    "# Gets weights and bias associated with this node\n",
    "\n",
    "for neuron_weights, neuron_bias in zip(weights, biases):\n",
    "    neuron_output = 0\n",
    "    \n",
    "    # Goes through input and associated weight\n",
    "    \n",
    "    for n_input, weight in zip(inputs, neuron_weights):\n",
    "        neuron_output += n_input * weight\n",
    "    \n",
    "    neuron_output += neuron_bias\n",
    "    layer_outputs.append(neuron_output)\n",
    "    \n",
    "print(layer_outputs)"
   ]
  },
  {
   "attachments": {},
   "cell_type": "markdown",
   "metadata": {},
   "source": [
    "Understanding Shape\n",
    "\n",
    "- Shape is used to describe the dimensions of arrays\n",
    "\n",
    "- A list x of 3 elements has shape (3)\n",
    "In math, this is called a vector, or a 1D array\n",
    "\n",
    "- A list y of 2x has shape (2,3)\n",
    "In math, this is a matrix, or a 2D array\n",
    "\n",
    "- A list of 5y has shape (5,2,3)\n",
    "3D array\n",
    "\n",
    "- A tensor is an object that can be represented as an array\n",
    "\n",
    "- Lists must be homologous (at each dimension, they must have the same size)\n",
    "\n"
   ]
  },
  {
   "attachments": {},
   "cell_type": "markdown",
   "metadata": {},
   "source": [
    "Dot Product\n",
    "\n",
    "- A way of multiplying matrices\n",
    "\n",
    "If j = [a,b,c] and k = [x,y,z]\n",
    "\n",
    "j.k = ax + by + cz\n",
    "\n",
    "We can use the dot product to multiply inputs and weights"
   ]
  },
  {
   "cell_type": "code",
   "execution_count": 10,
   "metadata": {},
   "outputs": [
    {
     "name": "stdout",
     "output_type": "stream",
     "text": [
      "4.8\n"
     ]
    }
   ],
   "source": [
    "inputs = [1,2,3,2.5]\n",
    "weights = [0.2, 0.8, -0.5, 1]\n",
    "bias = 2\n",
    "\n",
    "output = np.dot(inputs, weights) + bias\n",
    "\n",
    "print(output)"
   ]
  }
 ],
 "metadata": {
  "kernelspec": {
   "display_name": "base",
   "language": "python",
   "name": "python3"
  },
  "language_info": {
   "codemirror_mode": {
    "name": "ipython",
    "version": 3
   },
   "file_extension": ".py",
   "mimetype": "text/x-python",
   "name": "python",
   "nbconvert_exporter": "python",
   "pygments_lexer": "ipython3",
   "version": "3.10.1"
  },
  "orig_nbformat": 4,
  "vscode": {
   "interpreter": {
    "hash": "ea920d5e91271f0a88173a10d0206b9d0987cba038cf12c7ab257199afea2a6d"
   }
  }
 },
 "nbformat": 4,
 "nbformat_minor": 2
}
